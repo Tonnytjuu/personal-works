{
 "cells": [
  {
   "cell_type": "markdown",
   "metadata": {},
   "source": [
    "# Predict required stock beforehand with Elastic Net Regularization\n",
    "\n",
    "We only have data of 15 festivals, so regular ML methods are unusable because they would overfit. According to [this](https://www.quora.com/What-are-the-best-machine-learning-models-for-extremely-small-datasets-20-instances) post topology- and geometry-based regression models, such as homotopy LASSO, dgLARS, and others will work for extremely small datasets ([source](https://psyarxiv.com/v8jgk/))."
   ]
  },
  {
   "cell_type": "code",
   "execution_count": 56,
   "metadata": {},
   "outputs": [],
   "source": [
    "import pandas as pd\n",
    "import numpy as np\n",
    "from joblib import dump\n",
    "from datetime import datetime\n",
    "\n",
    "from sklearn.model_selection import GridSearchCV\n",
    "from sklearn.linear_model import ElasticNet\n",
    "\n",
    "from sklearn.exceptions import ConvergenceWarning\n",
    "from warnings import simplefilter\n",
    "simplefilter(\"ignore\", category=FutureWarning)\n",
    "simplefilter(\"ignore\", category=ConvergenceWarning)"
   ]
  },
  {
   "cell_type": "code",
   "execution_count": 57,
   "metadata": {},
   "outputs": [],
   "source": [
    "def grid_search_model(pgrid, regressor, X, y):\n",
    "    \"\"\"Perform grid search on an sklearn regressor\"\"\"\n",
    "    grid = GridSearchCV(\n",
    "        regressor(),\n",
    "        pgrid,\n",
    "        scoring=\"neg_mean_absolute_percentage_error\",\n",
    "        cv=X.shape[0],\n",
    "        verbose=1,\n",
    "    )\n",
    "    grid.fit(X, y)\n",
    "    model = regressor(**grid.best_params_).fit(X, y)\n",
    "    return model, grid.best_params_, grid.best_score_ * 100\n",
    "\n",
    "\n",
    "def inspect_cross_validation(regressor, params, X, y):\n",
    "    \"\"\"Look at the cross validations of each eventfor each product of a regressor\"\"\"\n",
    "    res = pd.DataFrame(\n",
    "        columns=[\n",
    "            \"Pred A\",\n",
    "            \"Pred B\",\n",
    "            \"Req A\",\n",
    "            \"Req B\",\n",
    "            \"Error A (%)\",\n",
    "            \"Error B (%)\",\n",
    "        ]\n",
    "    )\n",
    "\n",
    "    for i in range(X.shape[0]):\n",
    "        X_train = np.delete(X, (i), axis=0)\n",
    "        y_train = np.delete(y, (i), axis=0)\n",
    "        x_test = X[i].reshape(1, -1)\n",
    "        y_test = y[i]\n",
    "        model = regressor(**params)\n",
    "        model.fit(X_train, y_train)\n",
    "        pred = np.hstack([model.predict(x_test)[0], y_test])\n",
    "        row = dict()\n",
    "        row[\"Pred A\"] = pred[0]\n",
    "        row[\"Pred B\"] = pred[1]\n",
    "        row[\"Req A\"] = pred[2]\n",
    "        row[\"Req B\"] = pred[3]\n",
    "        row[\"Error A (%)\"] = abs((pred[2] - pred[0]) / pred[2]) * 100\n",
    "        row[\"Error B (%)\"] = abs((pred[3] - pred[1]) / pred[3]) * 100\n",
    "        res = res.append(row, ignore_index=True)\n",
    "\n",
    "    mean_a = res[\"Error A (%)\"].mean()\n",
    "    mean_b = res[\"Error B (%)\"].mean()\n",
    "    print(\"Mean absolute error product A:\", round(mean_a, 2), end=\"%\\n\")\n",
    "    print(\"Mean absolute error product B:\", round(mean_b, 2), end=\"%\\n\")\n",
    "    print(\n",
    "        \"Mean absolute error total:    \",\n",
    "        round(np.mean([mean_a, mean_b]), 2),\n",
    "        end=\"%\\n\",\n",
    "    )\n",
    "\n",
    "    return res\n",
    "\n",
    "\n",
    "def save_model(model, name=\"model\", timestamp=True):\n",
    "    \"\"\"Save the model to a file\"\"\"\n",
    "    suffix = \"_\" + datetime.now().strftime(\"%m-%d-%Y_%H:%M:%S\") if timestamp else \"\"\n",
    "    dump(model, f\"../../models/forecast/{name}{suffix}.joblib\")"
   ]
  },
  {
   "cell_type": "code",
   "execution_count": 58,
   "metadata": {},
   "outputs": [],
   "source": [
    "df = pd.read_csv(\"../../data/processed/events.csv\")\n",
    "\n",
    "lbl_X = ['Male/female ratio', 'Median age', 'Mean age', 'Max age',\n",
    "    'Min age', 'Mode age', 'Std dev age', 'Netherlands', 'France',\n",
    "    'Germany', 'Belgium', 'UK', 'Italy', 'Spain', 'month', 'day',\n",
    "    'weather_tavg', 'weather_tmin', 'weather_tmax', 'weather_prcp',\n",
    "    'weather_wdir', 'weather_wspd', 'weather_wpgt', 'weather_pres',\n",
    "    'inflation', 'benzineprijs', 'dieselprijs']\n",
    "lbl_y = ['stock_beer', 'stock_water']\n",
    "\n",
    "X, y = df[lbl_X].to_numpy(), df[lbl_y].to_numpy()"
   ]
  },
  {
   "cell_type": "markdown",
   "metadata": {},
   "source": [
    "## Elastic net regularization \n",
    "Should work with small datasets ([source](https://en.wikipedia.org/wiki/Elastic_net_regularization)). Because the dataset is so small, we can use GridSearch with cross-validation to optimize the parameters."
   ]
  },
  {
   "cell_type": "code",
   "execution_count": 65,
   "metadata": {},
   "outputs": [
    {
     "name": "stdout",
     "output_type": "stream",
     "text": [
      "Fitting 7 folds for each of 10000 candidates, totalling 70000 fits\n",
      "{'alpha': 62.61306532663317, 'l1_ratio': 0.6388888888888888, 'max_iter': 3}\n"
     ]
    }
   ],
   "source": [
    "# Tests 7.000.000 configurations, so takes a long time to train\n",
    "elnet_pgrid = {\"max_iter\": np.linspace(1, 5, 5, dtype=int),\n",
    "                \"alpha\": np.linspace(60, 70, 200),\n",
    "                \"l1_ratio\": np.linspace(0.25, 0.75, 10)}         \n",
    "elnet_model, elnet_params, elnet_score = grid_search_model(elnet_pgrid, ElasticNet, X, y)\n",
    "print(elnet_params)"
   ]
  },
  {
   "cell_type": "code",
   "execution_count": 66,
   "metadata": {},
   "outputs": [
    {
     "name": "stdout",
     "output_type": "stream",
     "text": [
      "Mean absolute error product A: 110.3%\n",
      "Mean absolute error product B: 262.95%\n",
      "Mean absolute error total:     186.63%\n"
     ]
    },
    {
     "data": {
      "text/html": [
       "<div>\n",
       "<style scoped>\n",
       "    .dataframe tbody tr th:only-of-type {\n",
       "        vertical-align: middle;\n",
       "    }\n",
       "\n",
       "    .dataframe tbody tr th {\n",
       "        vertical-align: top;\n",
       "    }\n",
       "\n",
       "    .dataframe thead th {\n",
       "        text-align: right;\n",
       "    }\n",
       "</style>\n",
       "<table border=\"1\" class=\"dataframe\">\n",
       "  <thead>\n",
       "    <tr style=\"text-align: right;\">\n",
       "      <th></th>\n",
       "      <th>Pred A</th>\n",
       "      <th>Pred B</th>\n",
       "      <th>Req A</th>\n",
       "      <th>Req B</th>\n",
       "      <th>Error A (%)</th>\n",
       "      <th>Error B (%)</th>\n",
       "    </tr>\n",
       "  </thead>\n",
       "  <tbody>\n",
       "    <tr>\n",
       "      <th>0</th>\n",
       "      <td>44900.619637</td>\n",
       "      <td>8473.995943</td>\n",
       "      <td>40509.0</td>\n",
       "      <td>20220.0</td>\n",
       "      <td>10.841096</td>\n",
       "      <td>58.091019</td>\n",
       "    </tr>\n",
       "    <tr>\n",
       "      <th>1</th>\n",
       "      <td>27735.901955</td>\n",
       "      <td>19772.903314</td>\n",
       "      <td>3942.0</td>\n",
       "      <td>1283.0</td>\n",
       "      <td>603.599745</td>\n",
       "      <td>1441.14601</td>\n",
       "    </tr>\n",
       "    <tr>\n",
       "      <th>2</th>\n",
       "      <td>35817.132009</td>\n",
       "      <td>12816.048958</td>\n",
       "      <td>38403.0</td>\n",
       "      <td>7181.0</td>\n",
       "      <td>6.733505</td>\n",
       "      <td>78.471647</td>\n",
       "    </tr>\n",
       "    <tr>\n",
       "      <th>3</th>\n",
       "      <td>23775.821926</td>\n",
       "      <td>16610.850945</td>\n",
       "      <td>40461.0</td>\n",
       "      <td>9149.0</td>\n",
       "      <td>41.237681</td>\n",
       "      <td>81.559197</td>\n",
       "    </tr>\n",
       "    <tr>\n",
       "      <th>4</th>\n",
       "      <td>26672.703663</td>\n",
       "      <td>23252.918578</td>\n",
       "      <td>26372.0</td>\n",
       "      <td>10784.0</td>\n",
       "      <td>1.140238</td>\n",
       "      <td>115.624245</td>\n",
       "    </tr>\n",
       "    <tr>\n",
       "      <th>5</th>\n",
       "      <td>28927.180086</td>\n",
       "      <td>8517.147999</td>\n",
       "      <td>20876.0</td>\n",
       "      <td>24070.0</td>\n",
       "      <td>38.56668</td>\n",
       "      <td>64.615089</td>\n",
       "    </tr>\n",
       "    <tr>\n",
       "      <th>6</th>\n",
       "      <td>43391.931371</td>\n",
       "      <td>128.480944</td>\n",
       "      <td>25523.0</td>\n",
       "      <td>127.0</td>\n",
       "      <td>70.011093</td>\n",
       "      <td>1.166098</td>\n",
       "    </tr>\n",
       "  </tbody>\n",
       "</table>\n",
       "</div>"
      ],
      "text/plain": [
       "         Pred A        Pred B    Req A    Req B Error A (%) Error B (%)\n",
       "0  44900.619637   8473.995943  40509.0  20220.0   10.841096   58.091019\n",
       "1  27735.901955  19772.903314   3942.0   1283.0  603.599745  1441.14601\n",
       "2  35817.132009  12816.048958  38403.0   7181.0    6.733505   78.471647\n",
       "3  23775.821926  16610.850945  40461.0   9149.0   41.237681   81.559197\n",
       "4  26672.703663  23252.918578  26372.0  10784.0    1.140238  115.624245\n",
       "5  28927.180086   8517.147999  20876.0  24070.0    38.56668   64.615089\n",
       "6  43391.931371    128.480944  25523.0    127.0   70.011093    1.166098"
      ]
     },
     "execution_count": 66,
     "metadata": {},
     "output_type": "execute_result"
    }
   ],
   "source": [
    "inspect_cross_validation(ElasticNet, elnet_params, X, y)"
   ]
  },
  {
   "cell_type": "code",
   "execution_count": null,
   "metadata": {},
   "outputs": [],
   "source": [
    "save_model(elnet_model, \"ElasticNetReg\")"
   ]
  }
 ],
 "metadata": {
  "kernelspec": {
   "display_name": "Python 3.9.12 ('apenkooi')",
   "language": "python",
   "name": "python3"
  },
  "language_info": {
   "codemirror_mode": {
    "name": "ipython",
    "version": 3
   },
   "file_extension": ".py",
   "mimetype": "text/x-python",
   "name": "python",
   "nbconvert_exporter": "python",
   "pygments_lexer": "ipython3",
   "version": "3.9.12"
  },
  "orig_nbformat": 4,
  "vscode": {
   "interpreter": {
    "hash": "fc58a5dfed23edf760fd3012f326ccfcdc15a4f6787e6beedc88f0c617984f59"
   }
  }
 },
 "nbformat": 4,
 "nbformat_minor": 2
}
