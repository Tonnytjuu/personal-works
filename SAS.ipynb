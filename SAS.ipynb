{
  "cells": [
    {
      "cell_type": "markdown",
      "source": [
        "**SPEECH EMOTION RECOGNITION**\n",
        "\n",
        "SAS final assignement\n",
        "\n",
        "Tonny Le 13226754"
      ],
      "metadata": {
        "id": "WICYf45ivwjy"
      }
    },
    {
      "cell_type": "markdown",
      "source": [
        "Voor de laatste opdracht heb ik gekozen voor het herkennen van emoties op basis van de stem, wat ook gelijk de hoofdvraag is: In hoeverre is het mogelijk om een model te maken die de emotie van een spreker kan herkennen?\n",
        "\n",
        "Als model heb ik gekozen voor een LSTM, aangezien deze modellen goed zijn in het behandelen van reeksen data, wat ook bij ons het geval is, data die ingesproken wordt. Ook word gaat mijn voorkeur boven de CNN omdat die voor mij nog een beetje een 'black box' is.\n",
        "\n",
        "***DATA***\n",
        "\n",
        "Als data heb ik gekozen voor de Revdess dataset van Zenodo. Deze data is gratis te verkrijgen onder de licentie genaamd *Creative Commons Attribution Non Commercial Share Alike 4.0 International*. Hierbij kunnen mensen de data gratis gebruiken voor niet commenrcieel gebruik. \n",
        "\n",
        "Om de data te kunnen gebruiken is het zip bestand downloaden van Canvas voldoende, uploaden naar de drive is optioneel maar maakt het gebruik van de notebook gemakkelijker, hieronder is de cell met de 'Root' variabele, wat veranderd kan worden voor de eigen locatie van de Revdess map."
      ],
      "metadata": {
        "id": "sy8JKNzHwqiV"
      }
    },
    {
      "cell_type": "code",
      "execution_count": 1,
      "metadata": {
        "colab": {
          "base_uri": "https://localhost:8080/"
        },
        "id": "IoOpw3WVvbf6",
        "outputId": "8865e4da-76c8-4c29-c5a8-90ba094c586d"
      },
      "outputs": [
        {
          "output_type": "stream",
          "name": "stdout",
          "text": [
            "Drive already mounted at /content/drive; to attempt to forcibly remount, call drive.mount(\"/content/drive\", force_remount=True).\n"
          ]
        }
      ],
      "source": [
        "import os\n",
        "\n",
        "from google.colab import drive\n",
        "drive.mount('/content/drive')\n",
        "\n",
        "Root = \"/content/drive/MyDrive/SAS/Ravdess\"\n",
        "os.chdir(Root)"
      ]
    },
    {
      "cell_type": "code",
      "execution_count": 2,
      "metadata": {
        "id": "GHuByZnxzfeF"
      },
      "outputs": [],
      "source": [
        "import os\n",
        "import numpy as np\n",
        "import librosa\n",
        "import pandas as pd\n",
        "import tensorflow.keras as keras\n",
        "import seaborn as sns\n",
        "import matplotlib.pyplot as plt\n",
        "\n"
      ]
    },
    {
      "cell_type": "markdown",
      "source": [
        "Als data preprocessing heb ik ervoor gekozen om niet de volledige mfcc te nenen die librosa geeft, maar het gemiddelde van de 100. Dit maakt het invullen in de LSTM makkelijker, nu elk datapunt een reeks van 100 getallen is."
      ],
      "metadata": {
        "id": "keYBUGigzLbm"
      }
    },
    {
      "cell_type": "code",
      "execution_count": 3,
      "metadata": {
        "id": "6aouN3mRezSD"
      },
      "outputs": [],
      "source": [
        "def get_mfcc(file):\n",
        "    y, sr = librosa.load(file)\n",
        "    mfcc = np.mean(librosa.feature.mfcc(y=y, sr=sr, n_mfcc=100).T, axis=0)\n",
        "    return mfcc"
      ]
    },
    {
      "cell_type": "markdown",
      "source": [
        "Hieronder worden de mfcc's berekent, en de data wordt gelijk gelabeled met de desbetreffende emotie. Verder wordt elk datapunt (mfcc) gelabeld in de features lijst (variabele y) op de zogenoemde *one hot encoding* manier, wat het keras LSTM model om vraagt als input features."
      ],
      "metadata": {
        "id": "vvFUbtAO008N"
      }
    },
    {
      "cell_type": "code",
      "execution_count": 4,
      "metadata": {
        "id": "2YiE4kkS6a-C"
      },
      "outputs": [],
      "source": [
        "# Grab a coffee, as this'll take ~5 min\n",
        "emotions = ['neutral', 'calm', 'happy', 'sad', 'angry', 'fearful', 'disgust', 'surprised']\n",
        "file_list = os.listdir(Root)\n",
        "data = []\n",
        "mfcc = []\n",
        "y = []\n",
        "\n",
        "for i in range(len(file_list)):\n",
        "    idx = int(file_list[i][6:8])-1\n",
        "    emotion = emotions[idx]\n",
        "    data.append(emotion)\n",
        "    mfcc.append(get_mfcc(file_list[i]))\n",
        "    emo_idx = np.zeros(8)\n",
        "    emo_idx[idx] = 1\n",
        "    y.append(emo_idx)"
      ]
    },
    {
      "cell_type": "code",
      "execution_count": 5,
      "metadata": {
        "colab": {
          "base_uri": "https://localhost:8080/",
          "height": 419
        },
        "id": "EHYi2fVO8d2g",
        "outputId": "a9249474-2cb2-4b11-8462-797434ae8c39"
      },
      "outputs": [
        {
          "output_type": "execute_result",
          "data": {
            "text/plain": [
              "                          file  emotion  \\\n",
              "0     03-01-06-02-01-02-08.wav  fearful   \n",
              "1     03-01-07-01-01-01-08.wav  disgust   \n",
              "2     03-01-07-01-02-01-08.wav  disgust   \n",
              "3     03-01-06-02-01-01-08.wav  fearful   \n",
              "4     03-01-06-01-01-01-08.wav  fearful   \n",
              "...                        ...      ...   \n",
              "1455  03-01-04-02-01-02-08.wav      sad   \n",
              "1456  03-01-05-01-01-02-08.wav    angry   \n",
              "1457  03-01-05-01-02-01-08.wav    angry   \n",
              "1458  03-01-04-02-02-01-08.wav      sad   \n",
              "1459  03-01-04-02-02-02-08.wav      sad   \n",
              "\n",
              "                                                   mfcc  \n",
              "0     [-454.74567, 24.271505, -24.567669, 8.734999, ...  \n",
              "1     [-680.01184, 65.156494, 10.326706, 17.873919, ...  \n",
              "2     [-672.0514, 62.881516, 14.926428, 15.036368, 5...  \n",
              "3     [-437.0863, 22.35926, -20.632498, 8.388019, -6...  \n",
              "4     [-534.0606, 47.17699, -24.207684, 8.500984, -0...  \n",
              "...                                                 ...  \n",
              "1455  [-632.6508, 59.079807, -6.028909, 18.05034, 7....  \n",
              "1456  [-541.0017, 47.75792, -1.959699, 13.853453, -8...  \n",
              "1457  [-601.5641, 48.488518, 6.8219714, 12.992502, -...  \n",
              "1458  [-666.0346, 60.911926, -2.652072, 17.441277, 8...  \n",
              "1459  [-635.8922, 68.721725, -3.9868112, 18.028477, ...  \n",
              "\n",
              "[1460 rows x 3 columns]"
            ],
            "text/html": [
              "\n",
              "  <div id=\"df-9a915ead-cc62-4797-821c-c5ec041226e9\">\n",
              "    <div class=\"colab-df-container\">\n",
              "      <div>\n",
              "<style scoped>\n",
              "    .dataframe tbody tr th:only-of-type {\n",
              "        vertical-align: middle;\n",
              "    }\n",
              "\n",
              "    .dataframe tbody tr th {\n",
              "        vertical-align: top;\n",
              "    }\n",
              "\n",
              "    .dataframe thead th {\n",
              "        text-align: right;\n",
              "    }\n",
              "</style>\n",
              "<table border=\"1\" class=\"dataframe\">\n",
              "  <thead>\n",
              "    <tr style=\"text-align: right;\">\n",
              "      <th></th>\n",
              "      <th>file</th>\n",
              "      <th>emotion</th>\n",
              "      <th>mfcc</th>\n",
              "    </tr>\n",
              "  </thead>\n",
              "  <tbody>\n",
              "    <tr>\n",
              "      <th>0</th>\n",
              "      <td>03-01-06-02-01-02-08.wav</td>\n",
              "      <td>fearful</td>\n",
              "      <td>[-454.74567, 24.271505, -24.567669, 8.734999, ...</td>\n",
              "    </tr>\n",
              "    <tr>\n",
              "      <th>1</th>\n",
              "      <td>03-01-07-01-01-01-08.wav</td>\n",
              "      <td>disgust</td>\n",
              "      <td>[-680.01184, 65.156494, 10.326706, 17.873919, ...</td>\n",
              "    </tr>\n",
              "    <tr>\n",
              "      <th>2</th>\n",
              "      <td>03-01-07-01-02-01-08.wav</td>\n",
              "      <td>disgust</td>\n",
              "      <td>[-672.0514, 62.881516, 14.926428, 15.036368, 5...</td>\n",
              "    </tr>\n",
              "    <tr>\n",
              "      <th>3</th>\n",
              "      <td>03-01-06-02-01-01-08.wav</td>\n",
              "      <td>fearful</td>\n",
              "      <td>[-437.0863, 22.35926, -20.632498, 8.388019, -6...</td>\n",
              "    </tr>\n",
              "    <tr>\n",
              "      <th>4</th>\n",
              "      <td>03-01-06-01-01-01-08.wav</td>\n",
              "      <td>fearful</td>\n",
              "      <td>[-534.0606, 47.17699, -24.207684, 8.500984, -0...</td>\n",
              "    </tr>\n",
              "    <tr>\n",
              "      <th>...</th>\n",
              "      <td>...</td>\n",
              "      <td>...</td>\n",
              "      <td>...</td>\n",
              "    </tr>\n",
              "    <tr>\n",
              "      <th>1455</th>\n",
              "      <td>03-01-04-02-01-02-08.wav</td>\n",
              "      <td>sad</td>\n",
              "      <td>[-632.6508, 59.079807, -6.028909, 18.05034, 7....</td>\n",
              "    </tr>\n",
              "    <tr>\n",
              "      <th>1456</th>\n",
              "      <td>03-01-05-01-01-02-08.wav</td>\n",
              "      <td>angry</td>\n",
              "      <td>[-541.0017, 47.75792, -1.959699, 13.853453, -8...</td>\n",
              "    </tr>\n",
              "    <tr>\n",
              "      <th>1457</th>\n",
              "      <td>03-01-05-01-02-01-08.wav</td>\n",
              "      <td>angry</td>\n",
              "      <td>[-601.5641, 48.488518, 6.8219714, 12.992502, -...</td>\n",
              "    </tr>\n",
              "    <tr>\n",
              "      <th>1458</th>\n",
              "      <td>03-01-04-02-02-01-08.wav</td>\n",
              "      <td>sad</td>\n",
              "      <td>[-666.0346, 60.911926, -2.652072, 17.441277, 8...</td>\n",
              "    </tr>\n",
              "    <tr>\n",
              "      <th>1459</th>\n",
              "      <td>03-01-04-02-02-02-08.wav</td>\n",
              "      <td>sad</td>\n",
              "      <td>[-635.8922, 68.721725, -3.9868112, 18.028477, ...</td>\n",
              "    </tr>\n",
              "  </tbody>\n",
              "</table>\n",
              "<p>1460 rows × 3 columns</p>\n",
              "</div>\n",
              "      <button class=\"colab-df-convert\" onclick=\"convertToInteractive('df-9a915ead-cc62-4797-821c-c5ec041226e9')\"\n",
              "              title=\"Convert this dataframe to an interactive table.\"\n",
              "              style=\"display:none;\">\n",
              "        \n",
              "  <svg xmlns=\"http://www.w3.org/2000/svg\" height=\"24px\"viewBox=\"0 0 24 24\"\n",
              "       width=\"24px\">\n",
              "    <path d=\"M0 0h24v24H0V0z\" fill=\"none\"/>\n",
              "    <path d=\"M18.56 5.44l.94 2.06.94-2.06 2.06-.94-2.06-.94-.94-2.06-.94 2.06-2.06.94zm-11 1L8.5 8.5l.94-2.06 2.06-.94-2.06-.94L8.5 2.5l-.94 2.06-2.06.94zm10 10l.94 2.06.94-2.06 2.06-.94-2.06-.94-.94-2.06-.94 2.06-2.06.94z\"/><path d=\"M17.41 7.96l-1.37-1.37c-.4-.4-.92-.59-1.43-.59-.52 0-1.04.2-1.43.59L10.3 9.45l-7.72 7.72c-.78.78-.78 2.05 0 2.83L4 21.41c.39.39.9.59 1.41.59.51 0 1.02-.2 1.41-.59l7.78-7.78 2.81-2.81c.8-.78.8-2.07 0-2.86zM5.41 20L4 18.59l7.72-7.72 1.47 1.35L5.41 20z\"/>\n",
              "  </svg>\n",
              "      </button>\n",
              "      \n",
              "  <style>\n",
              "    .colab-df-container {\n",
              "      display:flex;\n",
              "      flex-wrap:wrap;\n",
              "      gap: 12px;\n",
              "    }\n",
              "\n",
              "    .colab-df-convert {\n",
              "      background-color: #E8F0FE;\n",
              "      border: none;\n",
              "      border-radius: 50%;\n",
              "      cursor: pointer;\n",
              "      display: none;\n",
              "      fill: #1967D2;\n",
              "      height: 32px;\n",
              "      padding: 0 0 0 0;\n",
              "      width: 32px;\n",
              "    }\n",
              "\n",
              "    .colab-df-convert:hover {\n",
              "      background-color: #E2EBFA;\n",
              "      box-shadow: 0px 1px 2px rgba(60, 64, 67, 0.3), 0px 1px 3px 1px rgba(60, 64, 67, 0.15);\n",
              "      fill: #174EA6;\n",
              "    }\n",
              "\n",
              "    [theme=dark] .colab-df-convert {\n",
              "      background-color: #3B4455;\n",
              "      fill: #D2E3FC;\n",
              "    }\n",
              "\n",
              "    [theme=dark] .colab-df-convert:hover {\n",
              "      background-color: #434B5C;\n",
              "      box-shadow: 0px 1px 3px 1px rgba(0, 0, 0, 0.15);\n",
              "      filter: drop-shadow(0px 1px 2px rgba(0, 0, 0, 0.3));\n",
              "      fill: #FFFFFF;\n",
              "    }\n",
              "  </style>\n",
              "\n",
              "      <script>\n",
              "        const buttonEl =\n",
              "          document.querySelector('#df-9a915ead-cc62-4797-821c-c5ec041226e9 button.colab-df-convert');\n",
              "        buttonEl.style.display =\n",
              "          google.colab.kernel.accessAllowed ? 'block' : 'none';\n",
              "\n",
              "        async function convertToInteractive(key) {\n",
              "          const element = document.querySelector('#df-9a915ead-cc62-4797-821c-c5ec041226e9');\n",
              "          const dataTable =\n",
              "            await google.colab.kernel.invokeFunction('convertToInteractive',\n",
              "                                                     [key], {});\n",
              "          if (!dataTable) return;\n",
              "\n",
              "          const docLinkHtml = 'Like what you see? Visit the ' +\n",
              "            '<a target=\"_blank\" href=https://colab.research.google.com/notebooks/data_table.ipynb>data table notebook</a>'\n",
              "            + ' to learn more about interactive tables.';\n",
              "          element.innerHTML = '';\n",
              "          dataTable['output_type'] = 'display_data';\n",
              "          await google.colab.output.renderOutput(dataTable, element);\n",
              "          const docLink = document.createElement('div');\n",
              "          docLink.innerHTML = docLinkHtml;\n",
              "          element.appendChild(docLink);\n",
              "        }\n",
              "      </script>\n",
              "    </div>\n",
              "  </div>\n",
              "  "
            ]
          },
          "metadata": {},
          "execution_count": 5
        }
      ],
      "source": [
        "df = pd.DataFrame(list(zip(file_list, data, mfcc)),\n",
        "                  columns =['file', 'emotion', 'mfcc'])\n",
        "df"
      ]
    },
    {
      "cell_type": "markdown",
      "source": [
        "Hieronder een distributie bar plot van de emoties in de dataset. Opvallend is het aantal neutraal ingesproken bestanden, maar omdat dit een klein deel van de totale data is, en we geïnteresseerd zijn in de emoties, is het niet een groot probleem."
      ],
      "metadata": {
        "id": "_NOUof5a2l5Y"
      }
    },
    {
      "cell_type": "code",
      "source": [
        "sns.countplot(df['emotion'])"
      ],
      "metadata": {
        "colab": {
          "base_uri": "https://localhost:8080/",
          "height": 350
        },
        "id": "BQpiFdsEtGJB",
        "outputId": "ee659720-c95e-4dcd-a892-2350684c78a9"
      },
      "execution_count": 6,
      "outputs": [
        {
          "output_type": "stream",
          "name": "stderr",
          "text": [
            "/usr/local/lib/python3.7/dist-packages/seaborn/_decorators.py:43: FutureWarning: Pass the following variable as a keyword arg: x. From version 0.12, the only valid positional argument will be `data`, and passing other arguments without an explicit keyword will result in an error or misinterpretation.\n",
            "  FutureWarning\n"
          ]
        },
        {
          "output_type": "execute_result",
          "data": {
            "text/plain": [
              "<matplotlib.axes._subplots.AxesSubplot at 0x7f025b73f650>"
            ]
          },
          "metadata": {},
          "execution_count": 6
        },
        {
          "output_type": "display_data",
          "data": {
            "text/plain": [
              "<Figure size 432x288 with 1 Axes>"
            ],
            "image/png": "[encoded data removed]"
          },
          "metadata": {
            "needs_background": "light"
          }
        }
      ]
    },
    {
      "cell_type": "markdown",
      "source": [
        "De gebruikte data voor ons model, 1460 datapunten van mfcc data dat als shape (100, 1)"
      ],
      "metadata": {
        "id": "ylnu8HHQ6Kc5"
      }
    },
    {
      "cell_type": "code",
      "execution_count": 7,
      "metadata": {
        "colab": {
          "base_uri": "https://localhost:8080/"
        },
        "id": "4jW3w5CbGtGC",
        "outputId": "e65b924c-8300-48fb-c583-72e36e87af6f"
      },
      "outputs": [
        {
          "output_type": "execute_result",
          "data": {
            "text/plain": [
              "(1460, 100, 1)"
            ]
          },
          "metadata": {},
          "execution_count": 7
        }
      ],
      "source": [
        "X = np.array([i for i in df['mfcc']])\n",
        "X = np.expand_dims(X, -1)\n",
        "X.shape"
      ]
    },
    {
      "cell_type": "markdown",
      "source": [
        "Onze target data, geformat via de one hot encoding. "
      ],
      "metadata": {
        "id": "lv6PIOl-65xm"
      }
    },
    {
      "cell_type": "code",
      "execution_count": 8,
      "metadata": {
        "colab": {
          "base_uri": "https://localhost:8080/"
        },
        "id": "q1H8jeMXb5eo",
        "outputId": "8feb750a-f957-4185-f165-26c183132e43"
      },
      "outputs": [
        {
          "output_type": "execute_result",
          "data": {
            "text/plain": [
              "(1460, 8)"
            ]
          },
          "metadata": {},
          "execution_count": 8
        }
      ],
      "source": [
        "y = np.array(y)\n",
        "y.shape"
      ]
    },
    {
      "cell_type": "code",
      "execution_count": 9,
      "metadata": {
        "colab": {
          "base_uri": "https://localhost:8080/",
          "height": 145
        },
        "id": "Na0au1nHVTnn",
        "outputId": "2ae2cdc7-f7eb-40c6-b0ad-9c4152db8d16"
      },
      "outputs": [
        {
          "output_type": "stream",
          "name": "stdout",
          "text": [
            "['neutral', 'calm', 'happy', 'sad', 'angry', 'fearful', 'disgust', 'surprised']\n",
            "[0. 0. 0. 0. 0. 1. 0. 0.]\n"
          ]
        },
        {
          "output_type": "execute_result",
          "data": {
            "text/plain": [
              "                       file  emotion  \\\n",
              "0  03-01-06-02-01-02-08.wav  fearful   \n",
              "1  03-01-07-01-01-01-08.wav  disgust   \n",
              "\n",
              "                                                mfcc  \n",
              "0  [-454.74567, 24.271505, -24.567669, 8.734999, ...  \n",
              "1  [-680.01184, 65.156494, 10.326706, 17.873919, ...  "
            ],
            "text/html": [
              "\n",
              "  <div id=\"df-7cf11088-6a67-471c-9e91-a0adea5a90c2\">\n",
              "    <div class=\"colab-df-container\">\n",
              "      <div>\n",
              "<style scoped>\n",
              "    .dataframe tbody tr th:only-of-type {\n",
              "        vertical-align: middle;\n",
              "    }\n",
              "\n",
              "    .dataframe tbody tr th {\n",
              "        vertical-align: top;\n",
              "    }\n",
              "\n",
              "    .dataframe thead th {\n",
              "        text-align: right;\n",
              "    }\n",
              "</style>\n",
              "<table border=\"1\" class=\"dataframe\">\n",
              "  <thead>\n",
              "    <tr style=\"text-align: right;\">\n",
              "      <th></th>\n",
              "      <th>file</th>\n",
              "      <th>emotion</th>\n",
              "      <th>mfcc</th>\n",
              "    </tr>\n",
              "  </thead>\n",
              "  <tbody>\n",
              "    <tr>\n",
              "      <th>0</th>\n",
              "      <td>03-01-06-02-01-02-08.wav</td>\n",
              "      <td>fearful</td>\n",
              "      <td>[-454.74567, 24.271505, -24.567669, 8.734999, ...</td>\n",
              "    </tr>\n",
              "    <tr>\n",
              "      <th>1</th>\n",
              "      <td>03-01-07-01-01-01-08.wav</td>\n",
              "      <td>disgust</td>\n",
              "      <td>[-680.01184, 65.156494, 10.326706, 17.873919, ...</td>\n",
              "    </tr>\n",
              "  </tbody>\n",
              "</table>\n",
              "</div>\n",
              "      <button class=\"colab-df-convert\" onclick=\"convertToInteractive('df-7cf11088-6a67-471c-9e91-a0adea5a90c2')\"\n",
              "              title=\"Convert this dataframe to an interactive table.\"\n",
              "              style=\"display:none;\">\n",
              "        \n",
              "  <svg xmlns=\"http://www.w3.org/2000/svg\" height=\"24px\"viewBox=\"0 0 24 24\"\n",
              "       width=\"24px\">\n",
              "    <path d=\"M0 0h24v24H0V0z\" fill=\"none\"/>\n",
              "    <path d=\"M18.56 5.44l.94 2.06.94-2.06 2.06-.94-2.06-.94-.94-2.06-.94 2.06-2.06.94zm-11 1L8.5 8.5l.94-2.06 2.06-.94-2.06-.94L8.5 2.5l-.94 2.06-2.06.94zm10 10l.94 2.06.94-2.06 2.06-.94-2.06-.94-.94-2.06-.94 2.06-2.06.94z\"/><path d=\"M17.41 7.96l-1.37-1.37c-.4-.4-.92-.59-1.43-.59-.52 0-1.04.2-1.43.59L10.3 9.45l-7.72 7.72c-.78.78-.78 2.05 0 2.83L4 21.41c.39.39.9.59 1.41.59.51 0 1.02-.2 1.41-.59l7.78-7.78 2.81-2.81c.8-.78.8-2.07 0-2.86zM5.41 20L4 18.59l7.72-7.72 1.47 1.35L5.41 20z\"/>\n",
              "  </svg>\n",
              "      </button>\n",
              "      \n",
              "  <style>\n",
              "    .colab-df-container {\n",
              "      display:flex;\n",
              "      flex-wrap:wrap;\n",
              "      gap: 12px;\n",
              "    }\n",
              "\n",
              "    .colab-df-convert {\n",
              "      background-color: #E8F0FE;\n",
              "      border: none;\n",
              "      border-radius: 50%;\n",
              "      cursor: pointer;\n",
              "      display: none;\n",
              "      fill: #1967D2;\n",
              "      height: 32px;\n",
              "      padding: 0 0 0 0;\n",
              "      width: 32px;\n",
              "    }\n",
              "\n",
              "    .colab-df-convert:hover {\n",
              "      background-color: #E2EBFA;\n",
              "      box-shadow: 0px 1px 2px rgba(60, 64, 67, 0.3), 0px 1px 3px 1px rgba(60, 64, 67, 0.15);\n",
              "      fill: #174EA6;\n",
              "    }\n",
              "\n",
              "    [theme=dark] .colab-df-convert {\n",
              "      background-color: #3B4455;\n",
              "      fill: #D2E3FC;\n",
              "    }\n",
              "\n",
              "    [theme=dark] .colab-df-convert:hover {\n",
              "      background-color: #434B5C;\n",
              "      box-shadow: 0px 1px 3px 1px rgba(0, 0, 0, 0.15);\n",
              "      filter: drop-shadow(0px 1px 2px rgba(0, 0, 0, 0.3));\n",
              "      fill: #FFFFFF;\n",
              "    }\n",
              "  </style>\n",
              "\n",
              "      <script>\n",
              "        const buttonEl =\n",
              "          document.querySelector('#df-7cf11088-6a67-471c-9e91-a0adea5a90c2 button.colab-df-convert');\n",
              "        buttonEl.style.display =\n",
              "          google.colab.kernel.accessAllowed ? 'block' : 'none';\n",
              "\n",
              "        async function convertToInteractive(key) {\n",
              "          const element = document.querySelector('#df-7cf11088-6a67-471c-9e91-a0adea5a90c2');\n",
              "          const dataTable =\n",
              "            await google.colab.kernel.invokeFunction('convertToInteractive',\n",
              "                                                     [key], {});\n",
              "          if (!dataTable) return;\n",
              "\n",
              "          const docLinkHtml = 'Like what you see? Visit the ' +\n",
              "            '<a target=\"_blank\" href=https://colab.research.google.com/notebooks/data_table.ipynb>data table notebook</a>'\n",
              "            + ' to learn more about interactive tables.';\n",
              "          element.innerHTML = '';\n",
              "          dataTable['output_type'] = 'display_data';\n",
              "          await google.colab.output.renderOutput(dataTable, element);\n",
              "          const docLink = document.createElement('div');\n",
              "          docLink.innerHTML = docLinkHtml;\n",
              "          element.appendChild(docLink);\n",
              "        }\n",
              "      </script>\n",
              "    </div>\n",
              "  </div>\n",
              "  "
            ]
          },
          "metadata": {},
          "execution_count": 9
        }
      ],
      "source": [
        "print(emotions)\n",
        "print(y[0])\n",
        "df.head(2)"
      ]
    },
    {
      "cell_type": "markdown",
      "source": [
        "Hieronder is het model dat ik heb opgesteld, ik heb gekozen voor een extra dropout layers, dit zou een potentiele overfitting voorkomen, omdat dit per laag een paar nodes overslaat. Persoonlijk dacht ik dat dit wel een een goede toevoeging geeft, aangezien vaak hetzelfde zinnetje wordt ingesproken. De laatste laag heeft 8 lagen, want er zijn 8 verschillende emoties, met de softmax as activatie functie, die een waarde tussen 0 en 1 geeft voor de voorspelling."
      ],
      "metadata": {
        "id": "KM4KgXroHQGN"
      }
    },
    {
      "cell_type": "code",
      "execution_count": 10,
      "metadata": {
        "colab": {
          "base_uri": "https://localhost:8080/"
        },
        "id": "LWJ3HqUmUJ8W",
        "outputId": "6fdc6373-b00b-46ff-812e-d987b5307a36"
      },
      "outputs": [
        {
          "output_type": "stream",
          "name": "stdout",
          "text": [
            "Model: \"sequential\"\n",
            "_________________________________________________________________\n",
            " Layer (type)                Output Shape              Param #   \n",
            "=================================================================\n",
            " lstm (LSTM)                 (None, 128)               66560     \n",
            "                                                                 \n",
            " dense (Dense)               (None, 64)                8256      \n",
            "                                                                 \n",
            " dropout (Dropout)           (None, 64)                0         \n",
            "                                                                 \n",
            " dense_1 (Dense)             (None, 32)                2080      \n",
            "                                                                 \n",
            " dropout_1 (Dropout)         (None, 32)                0         \n",
            "                                                                 \n",
            " dense_2 (Dense)             (None, 8)                 264       \n",
            "                                                                 \n",
            "=================================================================\n",
            "Total params: 77,160\n",
            "Trainable params: 77,160\n",
            "Non-trainable params: 0\n",
            "_________________________________________________________________\n"
          ]
        }
      ],
      "source": [
        "model = keras.Sequential([\n",
        "    keras.layers.LSTM(128, return_sequences=False, input_shape=(100, 1)),\n",
        "    keras.layers.Dense(64, activation='relu'),\n",
        "    keras.layers.Dropout(0.1),\n",
        "    keras.layers.Dense(32, activation='relu'),\n",
        "    keras.layers.Dropout(0.1),\n",
        "    keras.layers.Dense(8, activation='softmax'),\n",
        "])\n",
        "\n",
        "model.compile(loss='categorical_crossentropy', optimizer='adam', metrics=['accuracy'])\n",
        "model.summary()"
      ]
    },
    {
      "cell_type": "markdown",
      "source": [
        "***MEMORY FOOTPRINT***\n",
        "\n",
        "Het totale aantal parameters is volgens de summary 77.160. Omdat de mfcc's in de data als bestandstype float worden bewaard, is het totale geheugen dat er nodig is voor 1 mfcc 77160 * 4. Dit levert op ongeveer 0.30 mb, en het hele model levert dus 77160 * 4 * 1460 levert op ongeveer 423 mb."
      ],
      "metadata": {
        "id": "OxyhnaDk7x-I"
      }
    },
    {
      "cell_type": "code",
      "execution_count": 11,
      "metadata": {
        "colab": {
          "base_uri": "https://localhost:8080/"
        },
        "id": "gT2WrkuWYKru",
        "outputId": "2724a954-ae43-4386-d29e-a5bc5f8b744d"
      },
      "outputs": [
        {
          "output_type": "stream",
          "name": "stdout",
          "text": [
            "Epoch 1/100\n",
            "10/10 [==============================] - 4s 71ms/step - loss: 2.0744 - accuracy: 0.1550 - val_loss: 2.0576 - val_accuracy: 0.1575\n",
            "Epoch 2/100\n",
            "10/10 [==============================] - 0s 15ms/step - loss: 2.0597 - accuracy: 0.1558 - val_loss: 2.0322 - val_accuracy: 0.1473\n",
            "Epoch 3/100\n",
            "10/10 [==============================] - 0s 15ms/step - loss: 2.0506 - accuracy: 0.1575 - val_loss: 2.0286 - val_accuracy: 0.1952\n",
            "Epoch 4/100\n",
            "10/10 [==============================] - 0s 13ms/step - loss: 2.0376 - accuracy: 0.1721 - val_loss: 2.0054 - val_accuracy: 0.1747\n",
            "Epoch 5/100\n",
            "10/10 [==============================] - 0s 13ms/step - loss: 1.9995 - accuracy: 0.1943 - val_loss: 2.0229 - val_accuracy: 0.1849\n",
            "Epoch 6/100\n",
            "10/10 [==============================] - 0s 13ms/step - loss: 1.9903 - accuracy: 0.1926 - val_loss: 1.9661 - val_accuracy: 0.1952\n",
            "Epoch 7/100\n",
            "10/10 [==============================] - 0s 12ms/step - loss: 1.9677 - accuracy: 0.2200 - val_loss: 1.9575 - val_accuracy: 0.1747\n",
            "Epoch 8/100\n",
            "10/10 [==============================] - 0s 12ms/step - loss: 1.9397 - accuracy: 0.2209 - val_loss: 1.9525 - val_accuracy: 0.2021\n",
            "Epoch 9/100\n",
            "10/10 [==============================] - 0s 12ms/step - loss: 1.8875 - accuracy: 0.2260 - val_loss: 1.9467 - val_accuracy: 0.2055\n",
            "Epoch 10/100\n",
            "10/10 [==============================] - 0s 12ms/step - loss: 1.8848 - accuracy: 0.2397 - val_loss: 1.9012 - val_accuracy: 0.1918\n",
            "Epoch 11/100\n",
            "10/10 [==============================] - 0s 11ms/step - loss: 1.8688 - accuracy: 0.2457 - val_loss: 1.9090 - val_accuracy: 0.2363\n",
            "Epoch 12/100\n",
            "10/10 [==============================] - 0s 12ms/step - loss: 1.8756 - accuracy: 0.2312 - val_loss: 1.9839 - val_accuracy: 0.1849\n",
            "Epoch 13/100\n",
            "10/10 [==============================] - 0s 11ms/step - loss: 1.8604 - accuracy: 0.2277 - val_loss: 1.9744 - val_accuracy: 0.2123\n",
            "Epoch 14/100\n",
            "10/10 [==============================] - 0s 12ms/step - loss: 1.8683 - accuracy: 0.2509 - val_loss: 1.8962 - val_accuracy: 0.2295\n",
            "Epoch 15/100\n",
            "10/10 [==============================] - 0s 13ms/step - loss: 1.8506 - accuracy: 0.2671 - val_loss: 1.9539 - val_accuracy: 0.2021\n",
            "Epoch 16/100\n",
            "10/10 [==============================] - 0s 12ms/step - loss: 1.8518 - accuracy: 0.2603 - val_loss: 1.9708 - val_accuracy: 0.1952\n",
            "Epoch 17/100\n",
            "10/10 [==============================] - 0s 11ms/step - loss: 1.8583 - accuracy: 0.2457 - val_loss: 1.9014 - val_accuracy: 0.2055\n",
            "Epoch 18/100\n",
            "10/10 [==============================] - 0s 12ms/step - loss: 1.8350 - accuracy: 0.2680 - val_loss: 2.0574 - val_accuracy: 0.2226\n",
            "Epoch 19/100\n",
            "10/10 [==============================] - 0s 12ms/step - loss: 1.8165 - accuracy: 0.2765 - val_loss: 1.9872 - val_accuracy: 0.2123\n",
            "Epoch 20/100\n",
            "10/10 [==============================] - 0s 12ms/step - loss: 1.8235 - accuracy: 0.2697 - val_loss: 1.9824 - val_accuracy: 0.1918\n",
            "Epoch 21/100\n",
            "10/10 [==============================] - 0s 12ms/step - loss: 1.8354 - accuracy: 0.2568 - val_loss: 1.9374 - val_accuracy: 0.2123\n",
            "Epoch 22/100\n",
            "10/10 [==============================] - 0s 11ms/step - loss: 1.8147 - accuracy: 0.2748 - val_loss: 1.9798 - val_accuracy: 0.1884\n",
            "Epoch 23/100\n",
            "10/10 [==============================] - 0s 12ms/step - loss: 1.8135 - accuracy: 0.2705 - val_loss: 1.9475 - val_accuracy: 0.1952\n",
            "Epoch 24/100\n",
            "10/10 [==============================] - 0s 12ms/step - loss: 1.8125 - accuracy: 0.2765 - val_loss: 1.9702 - val_accuracy: 0.2123\n",
            "Epoch 25/100\n",
            "10/10 [==============================] - 0s 12ms/step - loss: 1.8191 - accuracy: 0.2646 - val_loss: 1.9449 - val_accuracy: 0.2089\n",
            "Epoch 26/100\n",
            "10/10 [==============================] - 0s 12ms/step - loss: 1.8061 - accuracy: 0.2817 - val_loss: 1.9108 - val_accuracy: 0.2226\n",
            "Epoch 27/100\n",
            "10/10 [==============================] - 0s 11ms/step - loss: 1.8127 - accuracy: 0.2860 - val_loss: 2.0036 - val_accuracy: 0.2089\n",
            "Epoch 28/100\n",
            "10/10 [==============================] - 0s 12ms/step - loss: 1.8173 - accuracy: 0.2765 - val_loss: 1.9154 - val_accuracy: 0.2158\n",
            "Epoch 29/100\n",
            "10/10 [==============================] - 0s 12ms/step - loss: 1.8073 - accuracy: 0.2860 - val_loss: 1.9568 - val_accuracy: 0.2055\n",
            "Epoch 30/100\n",
            "10/10 [==============================] - 0s 12ms/step - loss: 1.8133 - accuracy: 0.2714 - val_loss: 2.0573 - val_accuracy: 0.2021\n",
            "Epoch 31/100\n",
            "10/10 [==============================] - 0s 12ms/step - loss: 1.8173 - accuracy: 0.2800 - val_loss: 1.8826 - val_accuracy: 0.2295\n",
            "Epoch 32/100\n",
            "10/10 [==============================] - 0s 12ms/step - loss: 1.8156 - accuracy: 0.2723 - val_loss: 1.9534 - val_accuracy: 0.2260\n",
            "Epoch 33/100\n",
            "10/10 [==============================] - 0s 11ms/step - loss: 1.7783 - accuracy: 0.3022 - val_loss: 1.9137 - val_accuracy: 0.2158\n",
            "Epoch 34/100\n",
            "10/10 [==============================] - 0s 12ms/step - loss: 1.7765 - accuracy: 0.2825 - val_loss: 2.0572 - val_accuracy: 0.2123\n",
            "Epoch 35/100\n",
            "10/10 [==============================] - 0s 12ms/step - loss: 1.7632 - accuracy: 0.3057 - val_loss: 1.9591 - val_accuracy: 0.2089\n",
            "Epoch 36/100\n",
            "10/10 [==============================] - 0s 12ms/step - loss: 1.7835 - accuracy: 0.3022 - val_loss: 2.0323 - val_accuracy: 0.2260\n",
            "Epoch 37/100\n",
            "10/10 [==============================] - 0s 11ms/step - loss: 1.8246 - accuracy: 0.2740 - val_loss: 1.9111 - val_accuracy: 0.2089\n",
            "Epoch 38/100\n",
            "10/10 [==============================] - 0s 12ms/step - loss: 1.7661 - accuracy: 0.2954 - val_loss: 1.9530 - val_accuracy: 0.2363\n",
            "Epoch 39/100\n",
            "10/10 [==============================] - 0s 12ms/step - loss: 1.7737 - accuracy: 0.3057 - val_loss: 1.9194 - val_accuracy: 0.2397\n",
            "Epoch 40/100\n",
            "10/10 [==============================] - 0s 13ms/step - loss: 1.7543 - accuracy: 0.3168 - val_loss: 1.9604 - val_accuracy: 0.2295\n",
            "Epoch 41/100\n",
            "10/10 [==============================] - 0s 11ms/step - loss: 1.7371 - accuracy: 0.3253 - val_loss: 1.9906 - val_accuracy: 0.2226\n",
            "Epoch 42/100\n",
            "10/10 [==============================] - 0s 13ms/step - loss: 1.7372 - accuracy: 0.3202 - val_loss: 1.9772 - val_accuracy: 0.2329\n",
            "Epoch 43/100\n",
            "10/10 [==============================] - 0s 11ms/step - loss: 1.7310 - accuracy: 0.3074 - val_loss: 2.0963 - val_accuracy: 0.2123\n",
            "Epoch 44/100\n",
            "10/10 [==============================] - 0s 13ms/step - loss: 1.7206 - accuracy: 0.3365 - val_loss: 1.9841 - val_accuracy: 0.2226\n",
            "Epoch 45/100\n",
            "10/10 [==============================] - 0s 12ms/step - loss: 1.7155 - accuracy: 0.3450 - val_loss: 2.0200 - val_accuracy: 0.2158\n",
            "Epoch 46/100\n",
            "10/10 [==============================] - 0s 12ms/step - loss: 1.7342 - accuracy: 0.3373 - val_loss: 2.0002 - val_accuracy: 0.2329\n",
            "Epoch 47/100\n",
            "10/10 [==============================] - 0s 12ms/step - loss: 1.7432 - accuracy: 0.3373 - val_loss: 2.0098 - val_accuracy: 0.2226\n",
            "Epoch 48/100\n",
            "10/10 [==============================] - 0s 14ms/step - loss: 1.7381 - accuracy: 0.3219 - val_loss: 1.8994 - val_accuracy: 0.2158\n",
            "Epoch 49/100\n",
            "10/10 [==============================] - 0s 13ms/step - loss: 1.7501 - accuracy: 0.3262 - val_loss: 2.0086 - val_accuracy: 0.2329\n",
            "Epoch 50/100\n",
            "10/10 [==============================] - 0s 12ms/step - loss: 1.7271 - accuracy: 0.3502 - val_loss: 1.9893 - val_accuracy: 0.2123\n",
            "Epoch 51/100\n",
            "10/10 [==============================] - 0s 13ms/step - loss: 1.7094 - accuracy: 0.3399 - val_loss: 2.0444 - val_accuracy: 0.2158\n",
            "Epoch 52/100\n",
            "10/10 [==============================] - 0s 12ms/step - loss: 1.6911 - accuracy: 0.3467 - val_loss: 1.9696 - val_accuracy: 0.2295\n",
            "Epoch 53/100\n",
            "10/10 [==============================] - 0s 11ms/step - loss: 1.7195 - accuracy: 0.3399 - val_loss: 2.1312 - val_accuracy: 0.2226\n",
            "Epoch 54/100\n",
            "10/10 [==============================] - 0s 12ms/step - loss: 1.7328 - accuracy: 0.3476 - val_loss: 1.9530 - val_accuracy: 0.2260\n",
            "Epoch 55/100\n",
            "10/10 [==============================] - 0s 12ms/step - loss: 1.7050 - accuracy: 0.3476 - val_loss: 1.8970 - val_accuracy: 0.2226\n",
            "Epoch 56/100\n",
            "10/10 [==============================] - 0s 13ms/step - loss: 1.6806 - accuracy: 0.3382 - val_loss: 1.9962 - val_accuracy: 0.2260\n",
            "Epoch 57/100\n",
            "10/10 [==============================] - 0s 12ms/step - loss: 1.6860 - accuracy: 0.3553 - val_loss: 2.0189 - val_accuracy: 0.2192\n",
            "Epoch 58/100\n",
            "10/10 [==============================] - 0s 12ms/step - loss: 1.6999 - accuracy: 0.3527 - val_loss: 2.0612 - val_accuracy: 0.2192\n",
            "Epoch 59/100\n",
            "10/10 [==============================] - 0s 12ms/step - loss: 1.6725 - accuracy: 0.3579 - val_loss: 2.1043 - val_accuracy: 0.2089\n",
            "Epoch 60/100\n",
            "10/10 [==============================] - 0s 13ms/step - loss: 1.6704 - accuracy: 0.3604 - val_loss: 2.0531 - val_accuracy: 0.2260\n",
            "Epoch 61/100\n",
            "10/10 [==============================] - 0s 13ms/step - loss: 1.6902 - accuracy: 0.3519 - val_loss: 1.9622 - val_accuracy: 0.2466\n",
            "Epoch 62/100\n",
            "10/10 [==============================] - 0s 11ms/step - loss: 1.6528 - accuracy: 0.3656 - val_loss: 2.0220 - val_accuracy: 0.2329\n",
            "Epoch 63/100\n",
            "10/10 [==============================] - 0s 11ms/step - loss: 1.6577 - accuracy: 0.3365 - val_loss: 1.9689 - val_accuracy: 0.2192\n",
            "Epoch 64/100\n",
            "10/10 [==============================] - 0s 12ms/step - loss: 1.6395 - accuracy: 0.3707 - val_loss: 1.9970 - val_accuracy: 0.2466\n",
            "Epoch 65/100\n",
            "10/10 [==============================] - 0s 11ms/step - loss: 1.6325 - accuracy: 0.3741 - val_loss: 2.0716 - val_accuracy: 0.2329\n",
            "Epoch 66/100\n",
            "10/10 [==============================] - 0s 13ms/step - loss: 1.6179 - accuracy: 0.3973 - val_loss: 2.0520 - val_accuracy: 0.2329\n",
            "Epoch 67/100\n",
            "10/10 [==============================] - 0s 12ms/step - loss: 1.6321 - accuracy: 0.3741 - val_loss: 1.9940 - val_accuracy: 0.2226\n",
            "Epoch 68/100\n",
            "10/10 [==============================] - 0s 13ms/step - loss: 1.6088 - accuracy: 0.3836 - val_loss: 2.0505 - val_accuracy: 0.2260\n",
            "Epoch 69/100\n",
            "10/10 [==============================] - 0s 12ms/step - loss: 1.5964 - accuracy: 0.3913 - val_loss: 2.0614 - val_accuracy: 0.2568\n",
            "Epoch 70/100\n",
            "10/10 [==============================] - 0s 12ms/step - loss: 1.5891 - accuracy: 0.3853 - val_loss: 2.0276 - val_accuracy: 0.2329\n",
            "Epoch 71/100\n",
            "10/10 [==============================] - 0s 11ms/step - loss: 1.5863 - accuracy: 0.3973 - val_loss: 2.0619 - val_accuracy: 0.2500\n",
            "Epoch 72/100\n",
            "10/10 [==============================] - 0s 14ms/step - loss: 1.5787 - accuracy: 0.3913 - val_loss: 2.0107 - val_accuracy: 0.2329\n",
            "Epoch 73/100\n",
            "10/10 [==============================] - 0s 13ms/step - loss: 1.5831 - accuracy: 0.3913 - val_loss: 2.0836 - val_accuracy: 0.2534\n",
            "Epoch 74/100\n",
            "10/10 [==============================] - 0s 11ms/step - loss: 1.5783 - accuracy: 0.3998 - val_loss: 2.1140 - val_accuracy: 0.2192\n",
            "Epoch 75/100\n",
            "10/10 [==============================] - 0s 11ms/step - loss: 1.5666 - accuracy: 0.3955 - val_loss: 2.0262 - val_accuracy: 0.2740\n",
            "Epoch 76/100\n",
            "10/10 [==============================] - 0s 12ms/step - loss: 1.5739 - accuracy: 0.4007 - val_loss: 2.1692 - val_accuracy: 0.2534\n",
            "Epoch 77/100\n",
            "10/10 [==============================] - 0s 13ms/step - loss: 1.5577 - accuracy: 0.4161 - val_loss: 2.0823 - val_accuracy: 0.2260\n",
            "Epoch 78/100\n",
            "10/10 [==============================] - 0s 11ms/step - loss: 1.5260 - accuracy: 0.4212 - val_loss: 2.0150 - val_accuracy: 0.2568\n",
            "Epoch 79/100\n",
            "10/10 [==============================] - 0s 11ms/step - loss: 1.5573 - accuracy: 0.4195 - val_loss: 1.9989 - val_accuracy: 0.2603\n",
            "Epoch 80/100\n",
            "10/10 [==============================] - 0s 13ms/step - loss: 1.5543 - accuracy: 0.4118 - val_loss: 2.1471 - val_accuracy: 0.2466\n",
            "Epoch 81/100\n",
            "10/10 [==============================] - 0s 11ms/step - loss: 1.5539 - accuracy: 0.4033 - val_loss: 2.0588 - val_accuracy: 0.2466\n",
            "Epoch 82/100\n",
            "10/10 [==============================] - 0s 12ms/step - loss: 1.5160 - accuracy: 0.4281 - val_loss: 2.1864 - val_accuracy: 0.2774\n",
            "Epoch 83/100\n",
            "10/10 [==============================] - 0s 13ms/step - loss: 1.5560 - accuracy: 0.4058 - val_loss: 2.1818 - val_accuracy: 0.2226\n",
            "Epoch 84/100\n",
            "10/10 [==============================] - 0s 12ms/step - loss: 1.5010 - accuracy: 0.4187 - val_loss: 2.1558 - val_accuracy: 0.2466\n",
            "Epoch 85/100\n",
            "10/10 [==============================] - 0s 12ms/step - loss: 1.4844 - accuracy: 0.4341 - val_loss: 2.2200 - val_accuracy: 0.2123\n",
            "Epoch 86/100\n",
            "10/10 [==============================] - 0s 12ms/step - loss: 1.4654 - accuracy: 0.4392 - val_loss: 2.3896 - val_accuracy: 0.2226\n",
            "Epoch 87/100\n",
            "10/10 [==============================] - 0s 12ms/step - loss: 1.4556 - accuracy: 0.4495 - val_loss: 2.2322 - val_accuracy: 0.2432\n",
            "Epoch 88/100\n",
            "10/10 [==============================] - 0s 12ms/step - loss: 1.4747 - accuracy: 0.4452 - val_loss: 2.2107 - val_accuracy: 0.2192\n",
            "Epoch 89/100\n",
            "10/10 [==============================] - 0s 12ms/step - loss: 1.4895 - accuracy: 0.4247 - val_loss: 2.2017 - val_accuracy: 0.2500\n",
            "Epoch 90/100\n",
            "10/10 [==============================] - 0s 12ms/step - loss: 1.4518 - accuracy: 0.4392 - val_loss: 2.1019 - val_accuracy: 0.2534\n",
            "Epoch 91/100\n",
            "10/10 [==============================] - 0s 12ms/step - loss: 1.4995 - accuracy: 0.4212 - val_loss: 2.2258 - val_accuracy: 0.2192\n",
            "Epoch 92/100\n",
            "10/10 [==============================] - 0s 12ms/step - loss: 1.4803 - accuracy: 0.4281 - val_loss: 2.2268 - val_accuracy: 0.2534\n",
            "Epoch 93/100\n",
            "10/10 [==============================] - 0s 12ms/step - loss: 1.4628 - accuracy: 0.4384 - val_loss: 2.4634 - val_accuracy: 0.1952\n",
            "Epoch 94/100\n",
            "10/10 [==============================] - 0s 11ms/step - loss: 1.4710 - accuracy: 0.4315 - val_loss: 2.2310 - val_accuracy: 0.2397\n",
            "Epoch 95/100\n",
            "10/10 [==============================] - 0s 12ms/step - loss: 1.4600 - accuracy: 0.4384 - val_loss: 2.1702 - val_accuracy: 0.2534\n",
            "Epoch 96/100\n",
            "10/10 [==============================] - 0s 12ms/step - loss: 1.4785 - accuracy: 0.4375 - val_loss: 2.1227 - val_accuracy: 0.2603\n",
            "Epoch 97/100\n",
            "10/10 [==============================] - 0s 12ms/step - loss: 1.4634 - accuracy: 0.4512 - val_loss: 2.3265 - val_accuracy: 0.2158\n",
            "Epoch 98/100\n",
            "10/10 [==============================] - 0s 12ms/step - loss: 1.4097 - accuracy: 0.4786 - val_loss: 2.3429 - val_accuracy: 0.2192\n",
            "Epoch 99/100\n",
            "10/10 [==============================] - 0s 11ms/step - loss: 1.3894 - accuracy: 0.4649 - val_loss: 2.2704 - val_accuracy: 0.2842\n",
            "Epoch 100/100\n",
            "10/10 [==============================] - 0s 12ms/step - loss: 1.4290 - accuracy: 0.4469 - val_loss: 2.1574 - val_accuracy: 0.2432\n"
          ]
        }
      ],
      "source": [
        "fit = model.fit(\n",
        "    X, y, \n",
        "    validation_split=0.2, \n",
        "    batch_size=128, \n",
        "    shuffle=True,\n",
        "    epochs=100\n",
        ")"
      ]
    },
    {
      "cell_type": "markdown",
      "source": [
        "***RESULTATEN***\n",
        "\n",
        "Het model hierboven levert een accuracy op van ongeveer ~47 %. Dit is het resultaat van een aantal keren trial en error qua parameters, ik had als eerste laag een model van 256 als input, 128 en 64 als dense layers, en dat leverde lagere resultaten op (35%). Varianten hierval leverden ook lagere resultaten op. Ook probeerde ik een verschillend aantal denselayers wat ook een lager resultaat geeft. De plot hieronder laat de loss zien die over de tijd van het bovenstaande model."
      ],
      "metadata": {
        "id": "dTwUfyMJTnoM"
      }
    },
    {
      "cell_type": "code",
      "source": [
        "loss = fit.history['loss']\n",
        "plt.plot(list(range(100)), loss, label='train loss')\n",
        "plt.xlabel('epochs')\n",
        "plt.ylabel('loss')\n",
        "plt.legend()\n",
        "plt.show()"
      ],
      "metadata": {
        "colab": {
          "base_uri": "https://localhost:8080/",
          "height": 281
        },
        "id": "vbyzd0hFXzIS",
        "outputId": "c2e7da38-6acc-4d6d-f68d-82054810b4c7"
      },
      "execution_count": 12,
      "outputs": [
        {
          "output_type": "display_data",
          "data": {
            "text/plain": [
              "<Figure size 432x288 with 1 Axes>"
            ],
            "image/png": "[encoded data removed]"
          },
          "metadata": {
            "needs_background": "light"
          }
        }
      ]
    },
    {
      "cell_type": "code",
      "source": [
        "acc = fit.history['accuracy']\n",
        "\n",
        "plt.plot(list(range(100)), acc, label='train accuracy')\n",
        "plt.xlabel('epochs')\n",
        "plt.ylabel('accuracy')\n",
        "plt.legend()\n",
        "plt.show()"
      ],
      "metadata": {
        "colab": {
          "base_uri": "https://localhost:8080/",
          "height": 279
        },
        "id": "9pzuNOMZhskf",
        "outputId": "19584ca3-ba69-40d7-99be-1e90621f9305"
      },
      "execution_count": 13,
      "outputs": [
        {
          "output_type": "display_data",
          "data": {
            "text/plain": [
              "<Figure size 432x288 with 1 Axes>"
            ],
            "image/png": "[encoded data removed]"
          },
          "metadata": {
            "needs_background": "light"
          }
        }
      ]
    },
    {
      "cell_type": "markdown",
      "source": [
        "***DISCUSSIE & CONCLUSIE***\n",
        "\n",
        "Gezien de resultaten met een nauwkeurigheid van rond de 50% denk ik dat dit model wel veel verbetering kan hebben. Ikzelf heb van de mfcc's maar honderd waardes genomen, maar een model kan getrained worden op basis van de gehele mfcc. Terugblikkend op de hoofdvraag, in hoeverre is het mogelijk om een model te maken dat emotie kan herkennen van een spreker, is dit model niet voldoende om gebruikt te worden in de realiteit. Om een goed model te kunnen maken, moet het hoogstwaarschijnlijk voor elke emotie duizenden traindata hebben. Dit komt ook omdat mensen niet rationeel zijn, en elke stem ook anders is, en het accent ook een rol speelt. Misschien met een dataset die aantallen miljoenen groot is, kan er een model worden getraind die een redelijke nauwkeurigheid heeft. De Revdess dataset van de canvas site heeft maar 1460 datapunten, en gezien de complexiteit van dit probleem is een nauwkeurigheid van 47% niet eens zo slecht. Het model van mij is ook een simpel LSTM met drie dense layers, maar een beter model zou misschien ook een Language model kunnen combineren voor betere nauwkeurigheid."
      ],
      "metadata": {
        "id": "3g5i5wPkjqr8"
      }
    },
    {
      "cell_type": "code",
      "source": [],
      "metadata": {
        "id": "2NNwWg-np-ht"
      },
      "execution_count": null,
      "outputs": []
    }
  ],
  "metadata": {
    "accelerator": "GPU",
    "colab": {
      "collapsed_sections": [],
      "provenance": []
    },
    "kernelspec": {
      "display_name": "Python 3",
      "name": "python3"
    },
    "language_info": {
      "name": "python"
    }
  },
  "nbformat": 4,
  "nbformat_minor": 0
}